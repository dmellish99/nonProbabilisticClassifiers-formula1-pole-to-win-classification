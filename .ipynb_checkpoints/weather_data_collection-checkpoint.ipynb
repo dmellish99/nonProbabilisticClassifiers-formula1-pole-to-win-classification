{
 "cells": [
  {
   "cell_type": "code",
   "execution_count": 25,
   "id": "799d9c56-cdf1-45d3-b09b-8beb2ddb54e1",
   "metadata": {},
   "outputs": [],
   "source": [
    "import pandas as pd\n",
    "\n",
    "import fastf1"
   ]
  },
  {
   "cell_type": "code",
   "execution_count": 164,
   "id": "e0bd3ded-5388-4788-b81e-7a73bf55f05c",
   "metadata": {},
   "outputs": [],
   "source": [
    "\n",
    "\n",
    "\n",
    "races=pd.read_csv('races.csv')\n",
    "\n",
    "circuits=pd.read_csv('circuits.csv')\n",
    "\n",
    "\n",
    "races=races[races['date']>='2010-01-01'] \n",
    "races=races[races['date']<'2010-10-27'] \n",
    "\n",
    "\n",
    "## combine to get lat and lng of circuits\n",
    "races=races.merge(circuits[['circuitId','lat','lng']],on=['circuitId'])\n",
    "\n",
    "\n",
    "races['datetime']=races['date'].astype(str)+' '+races['time'].astype(str)\n",
    "\n",
    "races['datetime']=pd.to_datetime(races['datetime'],utc=True)\n",
    "\n",
    "## convert to unix seconds\n",
    "races['datetime_utc_seconds']=races['datetime'].astype('int64') / 10**9\n",
    "\n",
    "\n",
    "## collect a 5 hour window (2 hours before + 3 hours post start time)\n",
    "## start point\n",
    "races['datetime_utc_start']=races['datetime_utc_seconds']-(2*60*60)\n",
    "\n",
    "## end point\n",
    "races['datetime_utc_end']=races['datetime_utc_seconds']+(3*60*60)\n",
    "\n"
   ]
  },
  {
   "cell_type": "code",
   "execution_count": 184,
   "id": "4f812613-556c-4960-99f3-79c05a369f3b",
   "metadata": {},
   "outputs": [
    {
     "name": "stdout",
     "output_type": "stream",
     "text": [
      "300\n",
      "200\n"
     ]
    },
    {
     "ename": "KeyError",
     "evalue": "'hours'",
     "output_type": "error",
     "traceback": [
      "\u001b[1;31m---------------------------------------------------------------------------\u001b[0m",
      "\u001b[1;31mKeyError\u001b[0m                                  Traceback (most recent call last)",
      "Cell \u001b[1;32mIn[184], line 33\u001b[0m\n\u001b[0;32m     27\u001b[0m response\u001b[38;5;241m=\u001b[39mrequests\u001b[38;5;241m.\u001b[39mget(url)\n\u001b[0;32m     29\u001b[0m \u001b[38;5;28mprint\u001b[39m(response\u001b[38;5;241m.\u001b[39mstatus_code)\n\u001b[1;32m---> 33\u001b[0m hourly_vals\u001b[38;5;241m=\u001b[39mresponse\u001b[38;5;241m.\u001b[39mjson()[\u001b[38;5;124m'\u001b[39m\u001b[38;5;124mdays\u001b[39m\u001b[38;5;124m'\u001b[39m][\u001b[38;5;241m0\u001b[39m][\u001b[38;5;124m'\u001b[39m\u001b[38;5;124mhours\u001b[39m\u001b[38;5;124m'\u001b[39m]\n\u001b[0;32m     35\u001b[0m \u001b[38;5;66;03m# print(hourly_vals)\u001b[39;00m\n\u001b[0;32m     37\u001b[0m \u001b[38;5;28;01mfor\u001b[39;00m an_hour \u001b[38;5;129;01min\u001b[39;00m hourly_vals:\n",
      "\u001b[1;31mKeyError\u001b[0m: 'hours'"
     ]
    }
   ],
   "source": [
    "\n",
    "\n",
    "import requests \n",
    "\n",
    "\n",
    "master_df_2=pd.DataFrame()\n",
    "\n",
    "for idx in range(0,len(races)):\n",
    "\n",
    "    print(idx)\n",
    "    raceId=races['raceId'][idx]\n",
    "    lat=str(races['lat'][idx])\n",
    "    lng=str(races['lng'][idx])\n",
    "    \n",
    "    start_time=str(int(races['datetime_utc_start'][idx]))\n",
    "    end_time=str(int(races['datetime_utc_end'][idx]))\n",
    "    \n",
    "    \n",
    "    ## import weather data from visual crossing\n",
    "    api_key='FD4794XQYE2Z4FJXV85BWNN9U'\n",
    "    \n",
    "    \n",
    "    \n",
    "    url=f'https://weather.visualcrossing.com/VisualCrossingWebServices/rest/services/timeline/{lat},{lng}/{start_time}/{end_time}?key={api_key}'.format(lat,lng,start_time,end_time,api_key)\n",
    "    \n",
    "    \n",
    "    \n",
    "    \n",
    "    response=requests.get(url)\n",
    "\n",
    "    print(response.status_code)\n",
    "    \n",
    "    \n",
    "\n",
    "    hourly_vals=response.json()['days'][0]['hours']\n",
    "\n",
    "    # print(hourly_vals)\n",
    "\n",
    "    for an_hour in hourly_vals:\n",
    "        response_lib={}\n",
    "\n",
    "        for feature in ['datetimeEpoch','temp','humidity','precip','windspeed']:\n",
    "            response_lib[feature]=[an_hour[feature]]\n",
    "        \n",
    "        temp_df=pd.DataFrame(response_lib)\n",
    "\n",
    "\n",
    "        temp_df['raceId']=raceId\n",
    "        if response_lib['datetimeEpoch'][0]>=int(start_time) and response_lib['datetimeEpoch'][0]<=int(end_time):\n",
    "            master_df=pd.concat([master_df_2,temp_df])\n",
    "\n",
    "\n"
   ]
  },
  {
   "cell_type": "code",
   "execution_count": null,
   "id": "b058f975-5f3f-404d-b44a-b8c1f72c8b19",
   "metadata": {},
   "outputs": [],
   "source": []
  },
  {
   "cell_type": "code",
   "execution_count": null,
   "id": "970b5d51-6bb8-413f-b4de-d0c4185f780e",
   "metadata": {},
   "outputs": [],
   "source": []
  },
  {
   "cell_type": "code",
   "execution_count": 108,
   "id": "41039e7d-390c-4651-8ac4-b3987194303f",
   "metadata": {},
   "outputs": [
    {
     "data": {
      "text/html": [
       "<div>\n",
       "<style scoped>\n",
       "    .dataframe tbody tr th:only-of-type {\n",
       "        vertical-align: middle;\n",
       "    }\n",
       "\n",
       "    .dataframe tbody tr th {\n",
       "        vertical-align: top;\n",
       "    }\n",
       "\n",
       "    .dataframe thead th {\n",
       "        text-align: right;\n",
       "    }\n",
       "</style>\n",
       "<table border=\"1\" class=\"dataframe\">\n",
       "  <thead>\n",
       "    <tr style=\"text-align: right;\">\n",
       "      <th></th>\n",
       "    </tr>\n",
       "  </thead>\n",
       "  <tbody>\n",
       "  </tbody>\n",
       "</table>\n",
       "</div>"
      ],
      "text/plain": [
       "Empty DataFrame\n",
       "Columns: []\n",
       "Index: []"
      ]
     },
     "execution_count": 108,
     "metadata": {},
     "output_type": "execute_result"
    }
   ],
   "source": []
  },
  {
   "cell_type": "code",
   "execution_count": 162,
   "id": "dc8f95a0-48cb-4c10-8ac6-7790924185f8",
   "metadata": {},
   "outputs": [
    {
     "data": {
      "text/html": [
       "<div>\n",
       "<style scoped>\n",
       "    .dataframe tbody tr th:only-of-type {\n",
       "        vertical-align: middle;\n",
       "    }\n",
       "\n",
       "    .dataframe tbody tr th {\n",
       "        vertical-align: top;\n",
       "    }\n",
       "\n",
       "    .dataframe thead th {\n",
       "        text-align: right;\n",
       "    }\n",
       "</style>\n",
       "<table border=\"1\" class=\"dataframe\">\n",
       "  <thead>\n",
       "    <tr style=\"text-align: right;\">\n",
       "      <th></th>\n",
       "      <th>datetimeEpoch</th>\n",
       "      <th>temp</th>\n",
       "      <th>humidity</th>\n",
       "      <th>precip</th>\n",
       "      <th>windspeed</th>\n",
       "      <th>raceId</th>\n",
       "    </tr>\n",
       "  </thead>\n",
       "  <tbody>\n",
       "    <tr>\n",
       "      <th>0</th>\n",
       "      <td>1268560800</td>\n",
       "      <td>95.6</td>\n",
       "      <td>14.37</td>\n",
       "      <td>0.0</td>\n",
       "      <td>6.2</td>\n",
       "      <td>337</td>\n",
       "    </tr>\n",
       "    <tr>\n",
       "      <th>0</th>\n",
       "      <td>1268564400</td>\n",
       "      <td>93.7</td>\n",
       "      <td>27.99</td>\n",
       "      <td>0.0</td>\n",
       "      <td>8.6</td>\n",
       "      <td>337</td>\n",
       "    </tr>\n",
       "    <tr>\n",
       "      <th>0</th>\n",
       "      <td>1268568000</td>\n",
       "      <td>88.0</td>\n",
       "      <td>36.21</td>\n",
       "      <td>0.0</td>\n",
       "      <td>8.5</td>\n",
       "      <td>337</td>\n",
       "    </tr>\n",
       "    <tr>\n",
       "      <th>0</th>\n",
       "      <td>1268571600</td>\n",
       "      <td>84.7</td>\n",
       "      <td>42.12</td>\n",
       "      <td>0.0</td>\n",
       "      <td>8.3</td>\n",
       "      <td>337</td>\n",
       "    </tr>\n",
       "    <tr>\n",
       "      <th>0</th>\n",
       "      <td>1268575200</td>\n",
       "      <td>84.5</td>\n",
       "      <td>46.36</td>\n",
       "      <td>0.0</td>\n",
       "      <td>8.1</td>\n",
       "      <td>337</td>\n",
       "    </tr>\n",
       "  </tbody>\n",
       "</table>\n",
       "</div>"
      ],
      "text/plain": [
       "   datetimeEpoch  temp  humidity  precip  windspeed  raceId\n",
       "0     1268560800  95.6     14.37     0.0        6.2     337\n",
       "0     1268564400  93.7     27.99     0.0        8.6     337\n",
       "0     1268568000  88.0     36.21     0.0        8.5     337\n",
       "0     1268571600  84.7     42.12     0.0        8.3     337\n",
       "0     1268575200  84.5     46.36     0.0        8.1     337"
      ]
     },
     "execution_count": 162,
     "metadata": {},
     "output_type": "execute_result"
    }
   ],
   "source": [
    "master_df.head()"
   ]
  },
  {
   "cell_type": "code",
   "execution_count": 178,
   "id": "f26a0ccc-01ff-457d-a0d4-7d071ff87808",
   "metadata": {},
   "outputs": [
    {
     "data": {
      "text/plain": [
       "300"
      ]
     },
     "execution_count": 178,
     "metadata": {},
     "output_type": "execute_result"
    }
   ],
   "source": [
    "master_df"
   ]
  },
  {
   "cell_type": "code",
   "execution_count": 192,
   "id": "3f4252bf-bf96-4c7e-8399-38337882ad4e",
   "metadata": {},
   "outputs": [],
   "source": [
    "master_df=master_df[master_df['raceId']!=1139]"
   ]
  },
  {
   "cell_type": "code",
   "execution_count": 194,
   "id": "c3d56ba3-4b3e-4add-8080-b0be31adbe6d",
   "metadata": {},
   "outputs": [],
   "source": [
    "\n",
    "\n",
    "\n",
    "master_df.to_csv('visual_crossing_weather_data.to_csv')"
   ]
  },
  {
   "cell_type": "code",
   "execution_count": null,
   "id": "126ddcd1-ce82-4e8b-aad4-5a5fdb706fae",
   "metadata": {},
   "outputs": [],
   "source": []
  }
 ],
 "metadata": {
  "kernelspec": {
   "display_name": "Python 3 (ipykernel)",
   "language": "python",
   "name": "python3"
  },
  "language_info": {
   "codemirror_mode": {
    "name": "ipython",
    "version": 3
   },
   "file_extension": ".py",
   "mimetype": "text/x-python",
   "name": "python",
   "nbconvert_exporter": "python",
   "pygments_lexer": "ipython3",
   "version": "3.12.4"
  }
 },
 "nbformat": 4,
 "nbformat_minor": 5
}
